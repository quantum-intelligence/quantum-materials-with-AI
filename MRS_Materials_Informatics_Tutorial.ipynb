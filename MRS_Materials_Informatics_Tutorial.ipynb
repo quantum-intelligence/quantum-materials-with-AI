{
  "nbformat": 4,
  "nbformat_minor": 0,
  "metadata": {
    "colab": {
      "provenance": [],
      "include_colab_link": true
    },
    "kernelspec": {
      "name": "python3",
      "display_name": "Python 3"
    },
    "language_info": {
      "name": "python"
    }
  },
  "cells": [
    {
      "cell_type": "markdown",
      "metadata": {
        "id": "view-in-github",
        "colab_type": "text"
      },
      "source": [
        "<a href=\"https://colab.research.google.com/github/quantum-intelligence/quantum-materials-with-AI/blob/main/MRS_Materials_Informatics_Tutorial.ipynb\" target=\"_parent\"><img src=\"https://colab.research.google.com/assets/colab-badge.svg\" alt=\"Open In Colab\"/></a>"
      ]
    },
    {
      "cell_type": "markdown",
      "metadata": {
        "id": "zJOS7iVgpzGo"
      },
      "source": [
        "# AI Tools for Accelerating the Discovery of Quantum Magnets\n",
        "### Two-dimensional magnetic materials\n",
        "Trevor David Rhone, Rensselaer Polytechnic Institute"
      ]
    },
    {
      "cell_type": "code",
      "metadata": {
        "id": "m6pLh9wbpur2"
      },
      "source": [
        "# import python modules\n",
        "import numpy as np\n",
        "import matplotlib.pyplot as plt\n",
        "import pandas as pd\n",
        "from sklearn.linear_model import LinearRegression\n",
        "import os"
      ],
      "execution_count": null,
      "outputs": []
    },
    {
      "cell_type": "markdown",
      "metadata": {
        "id": "gEemsLonqD26"
      },
      "source": [
        "### Download 2D magnetic materials formation energies data set:\n",
        "\n",
        "Download data from :\n",
        "https://archive.materialscloud.org/record/2019.0020/v1\n",
        "\n",
        "Description of data and corresponding study can be found here:\n",
        "https://www.nature.com/articles/s41598-020-72811-z\n",
        "\n",
        "- save the file to your google drive (with colab) or your local drive (jupyter notebook).\n",
        "- Can also upload from github: https://github.com/trevorguru/materials_informatics_tutorial"
      ]
    },
    {
      "cell_type": "code",
      "metadata": {
        "colab": {
          "base_uri": "https://localhost:8080/"
        },
        "id": "ggCwERf4tZMd",
        "outputId": "ac80188b-fe66-45c4-fd74-3eff32f8a082"
      },
      "source": [
        "from google.colab import drive\n",
        "drive.mount('/content/drive')"
      ],
      "execution_count": null,
      "outputs": [
        {
          "output_type": "stream",
          "name": "stdout",
          "text": [
            "Mounted at /content/drive\n"
          ]
        }
      ]
    },
    {
      "cell_type": "markdown",
      "metadata": {
        "id": "wSYZQY3TwX4O"
      },
      "source": [
        "Verify mount and check path for the csv file. Change the path below as needed."
      ]
    },
    {
      "cell_type": "code",
      "metadata": {
        "colab": {
          "base_uri": "https://localhost:8080/"
        },
        "id": "N3a_uSXTu5qB",
        "outputId": "746130bc-5b26-489d-b275-a25095af5990"
      },
      "source": [
        "ls drive/MyDrive/ML_2D_materials_workshop/"
      ],
      "execution_count": null,
      "outputs": [
        {
          "output_type": "stream",
          "name": "stdout",
          "text": [
            "magneticmoment_Ef_data.csv  ML_2D_exercises.ipynb\n"
          ]
        }
      ]
    },
    {
      "cell_type": "markdown",
      "metadata": {
        "id": "HNA0RD256GmH"
      },
      "source": [
        "Open and load \"magneticmoment_Ef_data.csv\" using pandas."
      ]
    },
    {
      "cell_type": "code",
      "metadata": {
        "id": "atY8SEhXqBkx"
      },
      "source": [
        "# Create dataframe of \"magneticmoment_Ef_data.csv\" using pandas.\n",
        "# Change the path to magneticmoment_Ef_data.csv as needed.\n",
        "data_path = \"drive/MyDrive/ML_2D_materials_workshop/magneticmoment_Ef_data.csv\"\n",
        "df = pd.read_csv(data_path)"
      ],
      "execution_count": null,
      "outputs": []
    },
    {
      "cell_type": "markdown",
      "metadata": {
        "id": "neDeJU_zsdGl"
      },
      "source": [
        "Explore the pandas object by examinging the columns:\n",
        "- df.column()\n",
        "\n",
        "A summary of the dataframe:\n",
        "- df.head()\n"
      ]
    },
    {
      "cell_type": "code",
      "metadata": {
        "colab": {
          "base_uri": "https://localhost:8080/"
        },
        "id": "X275lM_FxFdJ",
        "outputId": "6302f2c3-ae7b-44bc-e4c9-07b277071d7d"
      },
      "source": [
        "df.columns"
      ],
      "execution_count": null,
      "outputs": [
        {
          "output_type": "execute_result",
          "data": {
            "text/plain": [
              "Index(['Unnamed: 0', 'formation_energy', 'elem_frac', 'elem_list', 'energy',\n",
              "       'formula', 'magnetic_moment', 'spin_index', 'num_p', 'num_d', 'num_f',\n",
              "       'atomic_rad', 'atomic_vol', 'covalent_rad', 'dipole', 'eaffinity',\n",
              "       'num_electrons', 'atomic_rad_sum_dif', 'atomic_rad_std_dif',\n",
              "       'atomic_rad_std', 'atomic_rad_avg', 'atomic_rad_max_dif',\n",
              "       'atomic_vol_sum_dif', 'atomic_vol_std_dif', 'atomic_vol_std',\n",
              "       'atomic_vol_avg', 'atomic_vol_max_dif', 'covalentrad_sum_dif',\n",
              "       'covalentrad_std_dif', 'covalentrad_std', 'covalentrad_avg',\n",
              "       'covalentrad_max_dif', 'dipole_sum_dif', 'dipole_std_dif', 'dipole_std',\n",
              "       'dipole_avg', 'dipole_max_dif', 'eaffinity_sum_dif',\n",
              "       'eaffinity_std_dif', 'eaffinity_std', 'e_affinity_avg',\n",
              "       'e_affinity_max_dif', 'numelectron_sum_dif', 'numelectron_std_dif',\n",
              "       'numelectron_std', 'numelectron_avg', 'numelectron_max_dif',\n",
              "       'vdwradius_sum_dif', 'vdwradius_std_dif', 'vdwradius_std',\n",
              "       'vdwradius_avg', 'vdwradius_max_dif', 'e_negativity_sum_dif',\n",
              "       'e_negativity_std_dif', 'e_negativity_std', 'e_negativity_avg',\n",
              "       'e_negativity_max_dif', 'nvalence_sum_dif', 'nvalence_std_dif',\n",
              "       'nvalence_std', 'nvalence_avg', 'nvalence_max_dif', 'lastsubshell_avg',\n",
              "       'cmpd_skew_p', 'cmpd_skew_d', 'cmpd_skew_f', 'cmpd_sigma_p',\n",
              "       'cmpd_sigma_d', 'cmpd_sigma_f', 'frac_f ', 'std_ion', 'sum_ion',\n",
              "       'mean_ion', 'Born', 'hardness_mean', 'hardness_var', 'Nup_mean',\n",
              "       'Nup_var', 'cs_bob', 'cs_PE', 'cs_IR', 'cs_AR', 'cs_OX'],\n",
              "      dtype='object')"
            ]
          },
          "metadata": {},
          "execution_count": 23
        }
      ]
    },
    {
      "cell_type": "code",
      "metadata": {
        "colab": {
          "base_uri": "https://localhost:8080/",
          "height": 468
        },
        "id": "rixumV-ixGmT",
        "outputId": "a6174777-ce61-458c-9341-e7cb1affd566"
      },
      "source": [
        "df.head(n=3)"
      ],
      "execution_count": null,
      "outputs": [
        {
          "output_type": "execute_result",
          "data": {
            "text/html": [
              "<div>\n",
              "<style scoped>\n",
              "    .dataframe tbody tr th:only-of-type {\n",
              "        vertical-align: middle;\n",
              "    }\n",
              "\n",
              "    .dataframe tbody tr th {\n",
              "        vertical-align: top;\n",
              "    }\n",
              "\n",
              "    .dataframe thead th {\n",
              "        text-align: right;\n",
              "    }\n",
              "</style>\n",
              "<table border=\"1\" class=\"dataframe\">\n",
              "  <thead>\n",
              "    <tr style=\"text-align: right;\">\n",
              "      <th></th>\n",
              "      <th>Unnamed: 0</th>\n",
              "      <th>formation_energy</th>\n",
              "      <th>elem_frac</th>\n",
              "      <th>elem_list</th>\n",
              "      <th>energy</th>\n",
              "      <th>formula</th>\n",
              "      <th>magnetic_moment</th>\n",
              "      <th>spin_index</th>\n",
              "      <th>num_p</th>\n",
              "      <th>num_d</th>\n",
              "      <th>num_f</th>\n",
              "      <th>atomic_rad</th>\n",
              "      <th>atomic_vol</th>\n",
              "      <th>covalent_rad</th>\n",
              "      <th>dipole</th>\n",
              "      <th>eaffinity</th>\n",
              "      <th>num_electrons</th>\n",
              "      <th>atomic_rad_sum_dif</th>\n",
              "      <th>atomic_rad_std_dif</th>\n",
              "      <th>atomic_rad_std</th>\n",
              "      <th>atomic_rad_avg</th>\n",
              "      <th>atomic_rad_max_dif</th>\n",
              "      <th>atomic_vol_sum_dif</th>\n",
              "      <th>atomic_vol_std_dif</th>\n",
              "      <th>atomic_vol_std</th>\n",
              "      <th>atomic_vol_avg</th>\n",
              "      <th>atomic_vol_max_dif</th>\n",
              "      <th>covalentrad_sum_dif</th>\n",
              "      <th>covalentrad_std_dif</th>\n",
              "      <th>covalentrad_std</th>\n",
              "      <th>covalentrad_avg</th>\n",
              "      <th>covalentrad_max_dif</th>\n",
              "      <th>dipole_sum_dif</th>\n",
              "      <th>dipole_std_dif</th>\n",
              "      <th>dipole_std</th>\n",
              "      <th>dipole_avg</th>\n",
              "      <th>dipole_max_dif</th>\n",
              "      <th>eaffinity_sum_dif</th>\n",
              "      <th>eaffinity_std_dif</th>\n",
              "      <th>eaffinity_std</th>\n",
              "      <th>...</th>\n",
              "      <th>numelectron_std_dif</th>\n",
              "      <th>numelectron_std</th>\n",
              "      <th>numelectron_avg</th>\n",
              "      <th>numelectron_max_dif</th>\n",
              "      <th>vdwradius_sum_dif</th>\n",
              "      <th>vdwradius_std_dif</th>\n",
              "      <th>vdwradius_std</th>\n",
              "      <th>vdwradius_avg</th>\n",
              "      <th>vdwradius_max_dif</th>\n",
              "      <th>e_negativity_sum_dif</th>\n",
              "      <th>e_negativity_std_dif</th>\n",
              "      <th>e_negativity_std</th>\n",
              "      <th>e_negativity_avg</th>\n",
              "      <th>e_negativity_max_dif</th>\n",
              "      <th>nvalence_sum_dif</th>\n",
              "      <th>nvalence_std_dif</th>\n",
              "      <th>nvalence_std</th>\n",
              "      <th>nvalence_avg</th>\n",
              "      <th>nvalence_max_dif</th>\n",
              "      <th>lastsubshell_avg</th>\n",
              "      <th>cmpd_skew_p</th>\n",
              "      <th>cmpd_skew_d</th>\n",
              "      <th>cmpd_skew_f</th>\n",
              "      <th>cmpd_sigma_p</th>\n",
              "      <th>cmpd_sigma_d</th>\n",
              "      <th>cmpd_sigma_f</th>\n",
              "      <th>frac_f</th>\n",
              "      <th>std_ion</th>\n",
              "      <th>sum_ion</th>\n",
              "      <th>mean_ion</th>\n",
              "      <th>Born</th>\n",
              "      <th>hardness_mean</th>\n",
              "      <th>hardness_var</th>\n",
              "      <th>Nup_mean</th>\n",
              "      <th>Nup_var</th>\n",
              "      <th>cs_bob</th>\n",
              "      <th>cs_PE</th>\n",
              "      <th>cs_IR</th>\n",
              "      <th>cs_AR</th>\n",
              "      <th>cs_OX</th>\n",
              "    </tr>\n",
              "  </thead>\n",
              "  <tbody>\n",
              "    <tr>\n",
              "      <th>0</th>\n",
              "      <td>0</td>\n",
              "      <td>-1.152920</td>\n",
              "      <td>[{Element Cr: 0.1}, {Element Co: 0.1}, {Elemen...</td>\n",
              "      <td>[Element Cr, Element Co, Element Ge, Element T...</td>\n",
              "      <td>-46.782036</td>\n",
              "      <td>Cr1Co1Ge1Te6P1</td>\n",
              "      <td>2.816</td>\n",
              "      <td>1</td>\n",
              "      <td>4</td>\n",
              "      <td>9</td>\n",
              "      <td>0</td>\n",
              "      <td>[130.0, 125.0, 137.0, 160.0, 128.0]</td>\n",
              "      <td>[7.23, 6.7, 13.6, 20.5, 17.0]</td>\n",
              "      <td>[122.0, 111.00000000000001, 121.0, 136.0, 111....</td>\n",
              "      <td>[78.4, 57.71, 39.43, 37.0, 24.93]</td>\n",
              "      <td>[0.6659999999999999, 0.66225646, 1.232712, 1.9...</td>\n",
              "      <td>[24, 27, 32, 52, 15]</td>\n",
              "      <td>158.0</td>\n",
              "      <td>0.997877</td>\n",
              "      <td>0.008629</td>\n",
              "      <td>148.0</td>\n",
              "      <td>35</td>\n",
              "      <td>74.740</td>\n",
              "      <td>0.628972</td>\n",
              "      <td>0.172140</td>\n",
              "      <td>16.753</td>\n",
              "      <td>13.8</td>\n",
              "      <td>122.0</td>\n",
              "      <td>0.775396</td>\n",
              "      <td>0.005853</td>\n",
              "      <td>128.1</td>\n",
              "      <td>25</td>\n",
              "      <td>255.30</td>\n",
              "      <td>0.672182</td>\n",
              "      <td>0.154617</td>\n",
              "      <td>42.247</td>\n",
              "      <td>53.47</td>\n",
              "      <td>6.367902</td>\n",
              "      <td>0.959120</td>\n",
              "      <td>0.228103</td>\n",
              "      <td>...</td>\n",
              "      <td>0.761414</td>\n",
              "      <td>0.168444</td>\n",
              "      <td>41.0</td>\n",
              "      <td>37</td>\n",
              "      <td>136.0</td>\n",
              "      <td>0.997729</td>\n",
              "      <td>0.002938</td>\n",
              "      <td>203.3</td>\n",
              "      <td>31</td>\n",
              "      <td>136.0</td>\n",
              "      <td>0.997729</td>\n",
              "      <td>0.002938</td>\n",
              "      <td>203.3</td>\n",
              "      <td>31</td>\n",
              "      <td>22.0</td>\n",
              "      <td>0.807851</td>\n",
              "      <td>0.077778</td>\n",
              "      <td>6.0</td>\n",
              "      <td>5</td>\n",
              "      <td>[((3, 'd'), 3), ((3, 'd'), 6), ((4, 's'), 1), ...</td>\n",
              "      <td>0.0</td>\n",
              "      <td>0.0</td>\n",
              "      <td>0</td>\n",
              "      <td>1.0</td>\n",
              "      <td>0.666667</td>\n",
              "      <td>0</td>\n",
              "      <td>0</td>\n",
              "      <td>0.887472</td>\n",
              "      <td>43.439369</td>\n",
              "      <td>8.687874</td>\n",
              "      <td>824.839369</td>\n",
              "      <td>3.676485</td>\n",
              "      <td>0.392730</td>\n",
              "      <td>3.20</td>\n",
              "      <td>2.1600</td>\n",
              "      <td>42880.10573</td>\n",
              "      <td>966.64</td>\n",
              "      <td>13.905000</td>\n",
              "      <td>11.50</td>\n",
              "      <td>4917162.56</td>\n",
              "    </tr>\n",
              "    <tr>\n",
              "      <th>1</th>\n",
              "      <td>1</td>\n",
              "      <td>-1.325311</td>\n",
              "      <td>[{Element Cr: 0.1}, {Element Co: 0.1}, {Elemen...</td>\n",
              "      <td>[Element Cr, Element Co, Element Ge, Element Te]</td>\n",
              "      <td>-46.171992</td>\n",
              "      <td>Cr1Co1Ge2Te6</td>\n",
              "      <td>3.142</td>\n",
              "      <td>1</td>\n",
              "      <td>4</td>\n",
              "      <td>9</td>\n",
              "      <td>0</td>\n",
              "      <td>[130.0, 125.0, 137.0, 160.0]</td>\n",
              "      <td>[7.23, 6.7, 13.6, 20.5]</td>\n",
              "      <td>[122.0, 111.00000000000001, 121.0, 136.0]</td>\n",
              "      <td>[78.4, 57.71, 39.43, 37.0]</td>\n",
              "      <td>[0.6659999999999999, 0.66225646, 1.232712, 1.9...</td>\n",
              "      <td>[24, 27, 32, 52]</td>\n",
              "      <td>168.0</td>\n",
              "      <td>0.831633</td>\n",
              "      <td>0.009426</td>\n",
              "      <td>148.9</td>\n",
              "      <td>35</td>\n",
              "      <td>71.655</td>\n",
              "      <td>0.762022</td>\n",
              "      <td>0.217875</td>\n",
              "      <td>16.413</td>\n",
              "      <td>13.8</td>\n",
              "      <td>114.0</td>\n",
              "      <td>0.756233</td>\n",
              "      <td>0.005281</td>\n",
              "      <td>129.1</td>\n",
              "      <td>25</td>\n",
              "      <td>213.72</td>\n",
              "      <td>0.745633</td>\n",
              "      <td>0.098059</td>\n",
              "      <td>43.697</td>\n",
              "      <td>41.40</td>\n",
              "      <td>6.738856</td>\n",
              "      <td>0.825943</td>\n",
              "      <td>0.224304</td>\n",
              "      <td>...</td>\n",
              "      <td>0.926019</td>\n",
              "      <td>0.104636</td>\n",
              "      <td>42.7</td>\n",
              "      <td>28</td>\n",
              "      <td>49.5</td>\n",
              "      <td>0.785124</td>\n",
              "      <td>0.000359</td>\n",
              "      <td>206.4</td>\n",
              "      <td>11</td>\n",
              "      <td>49.5</td>\n",
              "      <td>0.785124</td>\n",
              "      <td>0.000359</td>\n",
              "      <td>206.4</td>\n",
              "      <td>11</td>\n",
              "      <td>22.5</td>\n",
              "      <td>0.813333</td>\n",
              "      <td>0.081600</td>\n",
              "      <td>5.9</td>\n",
              "      <td>5</td>\n",
              "      <td>[((3, 'd'), 3), ((3, 'd'), 6), ((4, 's'), 1), ...</td>\n",
              "      <td>0.0</td>\n",
              "      <td>0.0</td>\n",
              "      <td>0</td>\n",
              "      <td>1.0</td>\n",
              "      <td>0.666667</td>\n",
              "      <td>0</td>\n",
              "      <td>0</td>\n",
              "      <td>0.611701</td>\n",
              "      <td>33.353977</td>\n",
              "      <td>8.338494</td>\n",
              "      <td>824.567397</td>\n",
              "      <td>3.378096</td>\n",
              "      <td>0.045734</td>\n",
              "      <td>3.25</td>\n",
              "      <td>2.6875</td>\n",
              "      <td>44357.76082</td>\n",
              "      <td>984.88</td>\n",
              "      <td>12.438333</td>\n",
              "      <td>11.35</td>\n",
              "      <td>5087200.04</td>\n",
              "    </tr>\n",
              "    <tr>\n",
              "      <th>2</th>\n",
              "      <td>2</td>\n",
              "      <td>-1.458288</td>\n",
              "      <td>[{Element Cr: 0.1}, {Element Co: 0.1}, {Elemen...</td>\n",
              "      <td>[Element Cr, Element Co, Element Si, Element G...</td>\n",
              "      <td>-47.107590</td>\n",
              "      <td>Cr1Co1Si1Ge1Te6</td>\n",
              "      <td>3.149</td>\n",
              "      <td>1</td>\n",
              "      <td>4</td>\n",
              "      <td>9</td>\n",
              "      <td>0</td>\n",
              "      <td>[130.0, 125.0, 132.0, 137.0, 160.0]</td>\n",
              "      <td>[7.23, 6.7, 12.1, 13.6, 20.5]</td>\n",
              "      <td>[122.0, 111.00000000000001, 115.99999999999999...</td>\n",
              "      <td>[78.4, 57.71, 37.31, 39.43, 37.0]</td>\n",
              "      <td>[0.6659999999999999, 0.66225646, 1.3895211, 1....</td>\n",
              "      <td>[24, 27, 14, 32, 52]</td>\n",
              "      <td>154.0</td>\n",
              "      <td>0.968081</td>\n",
              "      <td>0.007981</td>\n",
              "      <td>148.4</td>\n",
              "      <td>35</td>\n",
              "      <td>67.940</td>\n",
              "      <td>0.701470</td>\n",
              "      <td>0.173773</td>\n",
              "      <td>16.263</td>\n",
              "      <td>13.8</td>\n",
              "      <td>112.0</td>\n",
              "      <td>0.747848</td>\n",
              "      <td>0.004776</td>\n",
              "      <td>128.6</td>\n",
              "      <td>25</td>\n",
              "      <td>206.40</td>\n",
              "      <td>0.918620</td>\n",
              "      <td>0.104747</td>\n",
              "      <td>43.485</td>\n",
              "      <td>41.40</td>\n",
              "      <td>6.681520</td>\n",
              "      <td>0.686061</td>\n",
              "      <td>0.171739</td>\n",
              "      <td>...</td>\n",
              "      <td>0.746740</td>\n",
              "      <td>0.177650</td>\n",
              "      <td>40.9</td>\n",
              "      <td>38</td>\n",
              "      <td>52.0</td>\n",
              "      <td>0.738166</td>\n",
              "      <td>0.000352</td>\n",
              "      <td>206.3</td>\n",
              "      <td>11</td>\n",
              "      <td>52.0</td>\n",
              "      <td>0.738166</td>\n",
              "      <td>0.000352</td>\n",
              "      <td>206.3</td>\n",
              "      <td>11</td>\n",
              "      <td>24.0</td>\n",
              "      <td>0.822917</td>\n",
              "      <td>0.099881</td>\n",
              "      <td>5.9</td>\n",
              "      <td>5</td>\n",
              "      <td>[((3, 'd'), 3), ((3, 'd'), 6), ((3, 's'), 1), ...</td>\n",
              "      <td>0.0</td>\n",
              "      <td>0.0</td>\n",
              "      <td>0</td>\n",
              "      <td>1.0</td>\n",
              "      <td>0.666667</td>\n",
              "      <td>0</td>\n",
              "      <td>0</td>\n",
              "      <td>0.551463</td>\n",
              "      <td>41.519819</td>\n",
              "      <td>8.303964</td>\n",
              "      <td>824.559724</td>\n",
              "      <td>3.378693</td>\n",
              "      <td>0.036589</td>\n",
              "      <td>3.00</td>\n",
              "      <td>2.4000</td>\n",
              "      <td>42715.38977</td>\n",
              "      <td>991.35</td>\n",
              "      <td>13.955000</td>\n",
              "      <td>11.00</td>\n",
              "      <td>4806565.92</td>\n",
              "    </tr>\n",
              "  </tbody>\n",
              "</table>\n",
              "<p>3 rows × 83 columns</p>\n",
              "</div>"
            ],
            "text/plain": [
              "   Unnamed: 0  formation_energy  ...  cs_AR       cs_OX\n",
              "0           0         -1.152920  ...  11.50  4917162.56\n",
              "1           1         -1.325311  ...  11.35  5087200.04\n",
              "2           2         -1.458288  ...  11.00  4806565.92\n",
              "\n",
              "[3 rows x 83 columns]"
            ]
          },
          "metadata": {},
          "execution_count": 8
        }
      ]
    },
    {
      "cell_type": "markdown",
      "source": [
        "Questions:\n",
        "- How many data points are in the dataset?\n",
        "- How many descripotors, X are available?\n",
        "- How many materuaks properties, y are included?"
      ],
      "metadata": {
        "id": "aRgtkc4ilMwN"
      }
    },
    {
      "cell_type": "markdown",
      "metadata": {
        "id": "mLRglduTlGBd"
      },
      "source": [
        "Consider the following target property, y and descriptors, X.\n",
        "\n",
        "y --> 'formation_energy'\n",
        "\n",
        "X --> 'std_ion', 'nvalence_avg', 'dipole_max_dif', 'dipole_std_dif','atomic_vol_max_dif','atomic_rad_max_dif'\n",
        "\n",
        "- Create X and y data\n",
        "- Perform data visualization"
      ]
    },
    {
      "cell_type": "markdown",
      "metadata": {
        "id": "-G5q1Xclr54G"
      },
      "source": [
        "### Data visualization\n",
        "Task #0"
      ]
    },
    {
      "cell_type": "code",
      "metadata": {
        "colab": {
          "base_uri": "https://localhost:8080/",
          "height": 279
        },
        "id": "s_3d8sdJp6aa",
        "outputId": "0f8ab063-7353-484a-b74b-f0d2b45563a4"
      },
      "source": [
        "# Visualize your data before attempting model fitting:\n",
        "X = df[['dipole_max_dif']]\n",
        "y = df['formation_energy']\n",
        "plt.scatter(X, y, alpha=0.5)\n",
        "plt.xlabel(\"Dipole polarizability - maximum difference\")\n",
        "plt.ylabel(\"Formation energy [eV]\")\n",
        "plt.show()"
      ],
      "execution_count": null,
      "outputs": [
        {
          "output_type": "display_data",
          "data": {
            "image/png": "[encoded data removed]",
            "text/plain": [
              "<Figure size 432x288 with 1 Axes>"
            ]
          },
          "metadata": {
            "needs_background": "light"
          }
        }
      ]
    },
    {
      "cell_type": "markdown",
      "source": [
        "## Visualize more deacriptors:\n",
        "- Make plots of select descriptors using matplotlib's subplot\n",
        "- Make a pairplot using seaborn\n",
        "- Based on the visualization, which are useful descriptors?\n",
        "\n",
        "https://seaborn.pydata.org/generated/seaborn.pairplot.html"
      ],
      "metadata": {
        "id": "svMI3hRpgsPe"
      }
    },
    {
      "cell_type": "code",
      "metadata": {
        "id": "hQlEhuydrekj"
      },
      "source": [
        "# Type your code below\n",
        "# Use subplots to display muptiple plots side by side:\n",
        "# Modify the following code\n",
        "# - try different descriptors\n",
        "# - Add a row of scatter plots\n",
        "# ------\n",
        "plt.subplots(2,1,1)\n",
        "plt.scatter(df['formation_energy'], df['dipole_max_dif'])\n",
        "plt.subplots(2,1,2)\n",
        "plt.scatter(df['formation_energy'], df['dipole_max_dif'])"
      ],
      "execution_count": null,
      "outputs": []
    },
    {
      "cell_type": "code",
      "source": [
        "# insert code for seaborn pairplot here"
      ],
      "metadata": {
        "id": "oDxS28PRk_bn"
      },
      "execution_count": null,
      "outputs": []
    },
    {
      "cell_type": "markdown",
      "metadata": {
        "id": "3kWnPv5E0URK"
      },
      "source": [
        "## Model creation and prediction\n",
        "### Linear regression"
      ]
    },
    {
      "cell_type": "markdown",
      "metadata": {
        "id": "aEBL6hw9mhkp"
      },
      "source": [
        "Task #1:\n",
        "- Do linear regression using the most important descriptor only (i.e. 'std_ion').\n",
        "- Report the mean squared error and R^2.\n",
        "\n",
        "See the sklearn documentation for assistance:\n",
        "https://scikit-learn.org/stable/modules/generated/sklearn.linear_model.LinearRegression.html"
      ]
    },
    {
      "cell_type": "code",
      "metadata": {
        "colab": {
          "base_uri": "https://localhost:8080/"
        },
        "id": "akBaNJLjmUlv",
        "outputId": "8a4792a3-5557-4547-e65c-681ebca64a49"
      },
      "source": [
        "X = df[['std_ion']] # only one descriptor\n",
        "X = np.asarray(X)\n",
        "y = df['formation_energy']\n",
        "\n",
        "reg = LinearRegression().fit(X, y) # Create model\n",
        "print(\"R^2 score\", reg.score(X, y)) # Calculate R^2\n",
        "print(\"coef_\", reg.coef_)\n",
        "print(\"intercept_\", reg.intercept_)\n",
        "X_pred = [[0.88],[0.61],[0.55],[0.85]] # Create dummy X data for evaluation\n",
        "y_pred = reg.predict(X_pred) # make model prediction given X data\n",
        "print(\"y_pred\", y_pred)\n",
        "\n",
        "# Modify X_pred to comprise a subset of the data contained in df[['std_ion']]\n",
        "# Compare the predictions with actual values\n",
        "\n",
        "# Write a script to calculate the Mean squared error and R squared score.\n",
        "# Feel free to code it 'by hand' or to use a module from sklearn\n",
        "# type code here"
      ],
      "execution_count": null,
      "outputs": [
        {
          "output_type": "stream",
          "name": "stdout",
          "text": [
            "R^2 score 0.09518064212060984\n",
            "coef_ [-1.78411301]\n",
            "intercept_ -0.31720531603671676\n",
            "y_pred [-1.88722476 -1.40551425 -1.29846747 -1.83370137]\n"
          ]
        }
      ]
    },
    {
      "cell_type": "code",
      "metadata": {
        "id": "4d0JUrzZ0EnB"
      },
      "source": [
        "# Trying fitting a linear regression model with another single descriptor\n",
        "# type code here..."
      ],
      "execution_count": null,
      "outputs": []
    },
    {
      "cell_type": "code",
      "metadata": {
        "id": "KtI-ZdUEs5ET"
      },
      "source": [
        "# Plot your model's predictions alongside the X and y data using matplotlibs's scaatter plot function\n",
        "# type code here..."
      ],
      "execution_count": null,
      "outputs": []
    },
    {
      "cell_type": "markdown",
      "metadata": {
        "id": "3eyiiEOKxQkx"
      },
      "source": [
        "\n",
        "Task #2:\n",
        "- Do linear regression using all six descriptors above.\n",
        "- i.e. X --> {'std_ion', 'nvalence_avg', 'dipole_max_dif', 'dipole_std_dif','atomic_vol_max_dif','atomic_rad_max_dif'}\n",
        "- Report the mean squared error and R$^2$.\n",
        "\n",
        "See the sklearn documentation for assistance: https://scikit-learn.org/stable/modules/generated/sklearn.linear_model.LinearRegression.html"
      ]
    },
    {
      "cell_type": "code",
      "metadata": {
        "id": "uXln-Se7xIeh"
      },
      "source": [
        "# type code here..."
      ],
      "execution_count": null,
      "outputs": []
    },
    {
      "cell_type": "markdown",
      "source": [
        "# Designing a model that can generalize:\n",
        "- The aim is to create a model that will accurately predict unseen data.\n",
        "- Beware overfitting!\n",
        "- To accomplish this we leverage model validation.\n",
        "\n",
        "## Validation methods:\n",
        "- Divide the dataset into a training, validation and test set.\n",
        "- Tune the model coefficients with the training set.\n",
        "- Do model selection (or hyperparameter tuning) using the validation set.\n",
        "- Check the model's ability to geneeraize using the test set. (*** The test set should be hidden from the model until the very end **)"
      ],
      "metadata": {
        "id": "Ixdm8FMGndI3"
      }
    },
    {
      "cell_type": "markdown",
      "metadata": {
        "id": "bGTM2bby0hnc"
      },
      "source": [
        "TASK #3:\n",
        "- Repeat the above questions but first divide your data into a training set (70%), validation set (15%) and test set (15%). Report performance scores on both the training set and test set.\n",
        "- Use the sklearn function: train_test_split(X, y, test_size=0.15, random_state=42)\n",
        "- Import needed modules.\n",
        "https://scikit-learn.org/stable/modules/generated/sklearn.model_selection.train_test_split.html"
      ]
    },
    {
      "cell_type": "code",
      "metadata": {
        "id": "IbH3xp5ZNls7"
      },
      "source": [
        "from sklearn.model_selection import train_test_split\n",
        "\n",
        "y = df['formation_energy'].values\n",
        "X = df[['std_ion']] #one descriptor\n",
        "# X = df[['std_ion', 'nvalence_avg', 'dipole_max_dif', 'dipole_std_dif','atomic_vol_max_dif','atomic_rad_max_dif']] #six descriptors\n",
        "\n",
        "# Create X_train, X_test, y_train, y_test\n",
        "\n",
        "# type code to create train/test split below:\n",
        "X_train_val, X_test, y_train_val, y_test = train_test_split(X, y, test_size=0.15, random_state=42) # the first split\n",
        "\n",
        "# Write code to create the val and train splits using X_train_val and y_train_val.\n",
        "# Remember we want a roughly 70/15/15 train/val/test split overall\n",
        "# insert code here"
      ],
      "execution_count": null,
      "outputs": []
    },
    {
      "cell_type": "markdown",
      "metadata": {
        "id": "hLpdY4Iu0zsk"
      },
      "source": [
        "TASK #4\n",
        "- Use X_train to train a linear model\n",
        "- Generate predictions using X_test, X_val and X_train"
      ]
    },
    {
      "cell_type": "code",
      "metadata": {
        "id": "HfwOs7zaOD41"
      },
      "source": [
        "# type code to create the model and to fit the model (use the training data):\n",
        "\n",
        "# type code to generate model predictions and scores (use both the training data and the test set):"
      ],
      "execution_count": null,
      "outputs": []
    },
    {
      "cell_type": "markdown",
      "metadata": {
        "id": "iGMy5Dui1Hwq"
      },
      "source": [
        "Task #5\n",
        "- Create a random forest regression model. Train it and generate predictions on X_train and X_test.\n",
        "- Compare the R^2 scores with those from the linear model"
      ]
    },
    {
      "cell_type": "code",
      "metadata": {
        "id": "KBsxsHO_1Zai"
      },
      "source": [
        "from sklearn.ensemble import RandomForestRegressor\n",
        "\n",
        "rf_model = RandomForestRegressor(max_depth=2, random_state=0)\n",
        "# NOTE:\n",
        "# RandomForestRegressor has hyperparameters, such as max_depth,\n",
        "# which determines the size of the decision trees used to create the random forest\n",
        "\n",
        "# Modify the code below and complete the task #5\n",
        "# ------\n",
        "# rf_model.fit(X, y)\n",
        "# print(rf_model.predict([[0, 0, 0, 0]]))\n"
      ],
      "execution_count": null,
      "outputs": []
    },
    {
      "cell_type": "markdown",
      "metadata": {
        "id": "sP2yxwAl2HDT"
      },
      "source": [
        "Task #6\n",
        "\n",
        "Hyperparameter tuning:\n",
        "- Tune the 'max_depth' hyperparameter to optimize the random forest model\n",
        "  - Search an array of possible values of max_depth,\n",
        "  - generate a series of corresponding models,\n",
        "  - calculate the performance of each model and\n",
        "  - determine the best score"
      ]
    },
    {
      "cell_type": "code",
      "metadata": {
        "colab": {
          "base_uri": "https://localhost:8080/",
          "height": 282
        },
        "id": "QROAmmCP2lA2",
        "outputId": "c88998fa-ab7b-48f5-cb69-0074214200f7"
      },
      "source": [
        "def hyper_search(X_train, y_train, X_val, y_val):\n",
        "  \"\"\"\n",
        "  function that searches evaluates a list of hyperparameters\n",
        "  \"\"\"\n",
        "  max_depth_values = np.arange(10)+1\n",
        "  print(\"Evaluate the following values for max_depth : \", max_depth_values)\n",
        "  scores = []\n",
        "  for ith, max_depth in enumerate(max_depth_values):\n",
        "    rf_model_i = RandomForestRegressor(max_depth=max_depth, n_estimators = 5, random_state=0)\n",
        "    rf_model_i.fit(X_train, y_train)\n",
        "    score = rf_model_i.score(X_val, y_val)\n",
        "    scores.append(score)\n",
        "    # print(ith, score)\n",
        "  return max_depth_values, scores\n",
        "\n",
        "X = df[['std_ion', 'nvalence_avg', 'dipole_max_dif', 'dipole_std_dif','atomic_vol_max_dif','atomic_rad_max_dif']]\n",
        "X = np.asarray(X)\n",
        "\n",
        "# Modify the code below using the training data you created previously\n",
        "# What is the best hyperparameter for the model?\n",
        "X_train = X[:100,:4]\n",
        "y_train = y[:100]\n",
        "X_val = X[50:80,:4]\n",
        "y_val = y[50:80]\n",
        "\n",
        "max_depth_values, scores = hyper_search(X_train, y_train, X_val, y_val)\n",
        "plt.scatter(max_depth_values, scores)\n",
        "# add axis labels\n",
        "plt.show()\n",
        "\n",
        "# type code to determine the best hyperparameter for the model below:\n",
        "\n",
        "# BONUS [come back to this if there's time]:\n",
        "# Modify code in function to calculate both training and validation predictions/scores\n",
        "# Plot both the training and test scores"
      ],
      "execution_count": null,
      "outputs": [
        {
          "output_type": "stream",
          "name": "stdout",
          "text": [
            "Evaluate max_depth values:  [ 1  2  3  4  5  6  7  8  9 10]\n"
          ]
        },
        {
          "output_type": "display_data",
          "data": {
            "image/png": "[encoded data removed]",
            "text/plain": [
              "<Figure size 432x288 with 1 Axes>"
            ]
          },
          "metadata": {
            "needs_background": "light"
          }
        }
      ]
    },
    {
      "cell_type": "markdown",
      "metadata": {
        "id": "RVq3pvenAKm1"
      },
      "source": [
        "Notice that RandomForestRegressor() has more than one hyperparameter.\n",
        "- Do a two-dimensional grid search instead of a one-dimensional grid search as shown above. (Choose an appropriate range of values for each hyperparameter).\n",
        "- Display your results using plt.imshow()\n",
        "- Determine the best combination of hyperparameters\n",
        "- Create a model using the best combination of hyperparameters"
      ]
    },
    {
      "cell_type": "code",
      "metadata": {
        "id": "_yVi-Btn27Y0"
      },
      "source": [
        "# write your code here"
      ],
      "execution_count": null,
      "outputs": []
    },
    {
      "cell_type": "markdown",
      "metadata": {
        "id": "SkNzFH-FApMw"
      },
      "source": [
        "TASK #7\n",
        "- Plot the DFT formation energy versus the machine learning predicted formation energy for the training set and the test set\n",
        "  - Use the machine learning model (and hyperparameters) with the best performance\n",
        "  - Report the corresponding validation score. Compare this with the validatino score for hte linear model. Which model is better?"
      ]
    },
    {
      "cell_type": "code",
      "metadata": {
        "id": "RL72frtYAz4G"
      },
      "source": [
        "# write your code here"
      ],
      "execution_count": null,
      "outputs": []
    },
    {
      "cell_type": "markdown",
      "source": [
        "#Homework Assignment\n",
        "Repeat the analysis above using the magnetic moment as the target value instead of the formation energy\n",
        "- y = df['magnetic_moment']\n",
        "- Do liunear regression to predict magnetic moment\n",
        "- Use the random forest model to make the prediction (optimize the hyperparameters using the validation set).\n",
        "- Plot your resutls and report your training, validation and test set scores.\n"
      ],
      "metadata": {
        "id": "fdJaXGbl1q9b"
      }
    },
    {
      "cell_type": "code",
      "source": [
        "# insert your code here"
      ],
      "metadata": {
        "id": "Li1WE4IX16Vs"
      },
      "execution_count": null,
      "outputs": []
    },
    {
      "cell_type": "markdown",
      "metadata": {
        "id": "bUVLI3WwA7mV"
      },
      "source": [
        "=====================================================================================\n",
        "\n",
        "CONGRATULATIONS!!! 👏\n",
        "\n",
        "You've completed the exercises and are well on your way to becoming an expert in materials informatics."
      ]
    }
  ]
}